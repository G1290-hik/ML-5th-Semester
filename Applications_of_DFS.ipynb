{
  "nbformat": 4,
  "nbformat_minor": 0,
  "metadata": {
    "colab": {
      "provenance": [],
      "authorship_tag": "ABX9TyME3oEIo3engRdmckP3Ehat",
      "include_colab_link": true
    },
    "kernelspec": {
      "name": "python3",
      "display_name": "Python 3"
    },
    "language_info": {
      "name": "python"
    }
  },
  "cells": [
    {
      "cell_type": "markdown",
      "metadata": {
        "id": "view-in-github",
        "colab_type": "text"
      },
      "source": [
        "<a href=\"https://colab.research.google.com/github/G1290-hik/ML-5th-Semester/blob/main/Applications_of_DFS.ipynb\" target=\"_parent\"><img src=\"https://colab.research.google.com/assets/colab-badge.svg\" alt=\"Open In Colab\"/></a>"
      ]
    },
    {
      "cell_type": "markdown",
      "source": [
        "# **Applications of DFS**"
      ],
      "metadata": {
        "id": "e25OM8IRA45i"
      }
    },
    {
      "cell_type": "markdown",
      "source": [
        "## Maze Solve Logic"
      ],
      "metadata": {
        "id": "hI5byz9eA4vM"
      }
    },
    {
      "cell_type": "code",
      "execution_count": null,
      "metadata": {
        "colab": {
          "base_uri": "https://localhost:8080/"
        },
        "id": "t0ymqiVgA1B2",
        "outputId": "7365ce79-214b-463f-83aa-f94ea244ef41"
      },
      "outputs": [
        {
          "output_type": "stream",
          "name": "stdout",
          "text": [
            "True\n"
          ]
        }
      ],
      "source": [
        "def solve_maze(maze, start, end):\n",
        "    stack = [start]\n",
        "    visited = set()\n",
        "\n",
        "    while stack:\n",
        "        position = stack.pop()\n",
        "        if position == end:\n",
        "            return True\n",
        "        if position in visited:\n",
        "            continue\n",
        "        visited.add(position)\n",
        "\n",
        "        x, y = position\n",
        "        for dx, dy in [(-1, 0), (1, 0), (0, -1), (0, 1)]:\n",
        "            new_position = (x + dx, y + dy)\n",
        "            if 0 <= new_position[0] < len(maze) and 0 <= new_position[1] < len(maze[0]) and maze[new_position[0]][new_position[1]] == 0:\n",
        "                stack.append(new_position)\n",
        "\n",
        "    return False\n",
        "\n",
        "maze = [\n",
        "    [0, 1, 0, 0, 0],\n",
        "    [0, 1, 0, 1, 0],\n",
        "    [0, 0, 0, 1, 0],\n",
        "    [0, 1, 1, 1, 0],\n",
        "    [0, 0, 0, 0, 0]\n",
        "]\n",
        "\n",
        "start = (0, 0)\n",
        "end = (4, 4)\n",
        "\n",
        "print(solve_maze(maze, start, end))\n"
      ]
    },
    {
      "cell_type": "markdown",
      "source": [
        "## Finding Connected Components\n"
      ],
      "metadata": {
        "id": "a94hEDVgBSG0"
      }
    },
    {
      "cell_type": "code",
      "source": [
        "def find_connected_components(graph):\n",
        "    def dfs(node, visited):\n",
        "        stack = [node]\n",
        "        component = []\n",
        "        while stack:\n",
        "            n = stack.pop()\n",
        "            if n not in visited:\n",
        "                visited.add(n)\n",
        "                component.append(n)\n",
        "                stack.extend(graph[n] - visited)\n",
        "        return component\n",
        "\n",
        "    visited = set()\n",
        "    components = []\n",
        "    for node in graph:\n",
        "        if node not in visited:\n",
        "            component = dfs(node, visited)\n",
        "            components.append(component)\n",
        "    return components\n",
        "\n",
        "graph = {\n",
        "    1: {2, 3},\n",
        "    2: {1, 4},\n",
        "    3: {1},\n",
        "    4: {2},\n",
        "    5: {6},\n",
        "    6: {5}\n",
        "}\n",
        "\n",
        "print(find_connected_components(graph))\n"
      ],
      "metadata": {
        "colab": {
          "base_uri": "https://localhost:8080/"
        },
        "id": "mtRHN9e_Ba5I",
        "outputId": "c65683e3-3b84-47f5-b27b-8c8b119a357e"
      },
      "execution_count": null,
      "outputs": [
        {
          "output_type": "stream",
          "name": "stdout",
          "text": [
            "[[1, 3, 2, 4], [5, 6]]\n"
          ]
        }
      ]
    },
    {
      "cell_type": "markdown",
      "source": [
        "## Topological Sorting"
      ],
      "metadata": {
        "id": "91AFgdlABp1H"
      }
    },
    {
      "cell_type": "code",
      "source": [
        "def topological_sort(graph):\n",
        "    def dfs(node, visited, stack):\n",
        "        visited.add(node)\n",
        "        for neighbor in graph.get(node, []):\n",
        "            if neighbor not in visited:\n",
        "                dfs(neighbor, visited, stack)\n",
        "        stack.append(node)\n",
        "\n",
        "    visited = set()\n",
        "    stack = []\n",
        "\n",
        "    for node in graph:\n",
        "        if node not in visited:\n",
        "            dfs(node, visited, stack)\n",
        "\n",
        "    return stack[::-1]\n",
        "\n",
        "graph = {\n",
        "    'A': ['B', 'C'],\n",
        "    'B': ['D'],\n",
        "    'C': ['D'],\n",
        "    'D': ['']\n",
        "}\n",
        "\n",
        "print(topological_sort(graph))\n"
      ],
      "metadata": {
        "colab": {
          "base_uri": "https://localhost:8080/"
        },
        "id": "mVpUGvtwBxUl",
        "outputId": "eaadc373-bf9c-4ad0-fc80-20490d395781"
      },
      "execution_count": null,
      "outputs": [
        {
          "output_type": "stream",
          "name": "stdout",
          "text": [
            "['A', 'C', 'B', 'D', '']\n"
          ]
        }
      ]
    },
    {
      "cell_type": "markdown",
      "source": [
        "## Cycle Detection"
      ],
      "metadata": {
        "id": "Dkr9vl8OB20S"
      }
    },
    {
      "cell_type": "code",
      "source": [
        "def has_cycle(graph):\n",
        "    def dfs(node, visited, stack):\n",
        "        visited.add(node)\n",
        "        stack.add(node)\n",
        "        for neighbor in graph.get(node, []):\n",
        "            if neighbor not in visited:\n",
        "                if dfs(neighbor, visited, stack):\n",
        "                    return True\n",
        "            elif neighbor in stack:\n",
        "                return True\n",
        "        stack.remove(node)\n",
        "        return False\n",
        "\n",
        "    visited = set()\n",
        "    stack = set()\n",
        "\n",
        "    for node in graph:\n",
        "        if node not in visited:\n",
        "            if dfs(node, visited, stack):\n",
        "                return True\n",
        "    return False\n",
        "\n",
        "graph = {\n",
        "    'A': ['B'],\n",
        "    'B': ['C'],\n",
        "    'C': ['D']\n",
        "}\n",
        "\n",
        "print(has_cycle(graph))\n"
      ],
      "metadata": {
        "colab": {
          "base_uri": "https://localhost:8080/"
        },
        "id": "tSsor1FnB7Fr",
        "outputId": "7cf4a9dc-3621-486f-d74b-89823cdb95fd"
      },
      "execution_count": null,
      "outputs": [
        {
          "output_type": "stream",
          "name": "stdout",
          "text": [
            "False\n"
          ]
        }
      ]
    },
    {
      "cell_type": "markdown",
      "source": [
        "## Word Search in Grid"
      ],
      "metadata": {
        "id": "Db71AB3wCc5w"
      }
    },
    {
      "cell_type": "code",
      "source": [
        "def exist(board, word):\n",
        "    def dfs(board, word, i, j, k):\n",
        "        if k == len(word):\n",
        "            return True\n",
        "        if i < 0 or i >= len(board) or j < 0 or j >= len(board[0]) or board[i][j] != word[k]:\n",
        "            return False\n",
        "        tmp, board[i][j] = board[i][j], '#'\n",
        "        found = dfs(board, word, i+1, j, k+1) or dfs(board, word, i-1, j, k+1) or dfs(board, word, i, j+1, k+1) or dfs(board, word, i, j-1, k+1)\n",
        "        board[i][j] = tmp\n",
        "        return found\n",
        "\n",
        "    for i in range(len(board)):\n",
        "        for j in range(len(board[0])):\n",
        "            if dfs(board, word, i, j, 0):\n",
        "                return True\n",
        "    return False\n",
        "\n",
        "board = [\n",
        "    ['A', 'B', 'C', 'E'],\n",
        "    ['S', 'F', 'C', 'S'],\n",
        "    ['A', 'D', 'E', 'E']\n",
        "]\n",
        "word = \"ABCCED\"\n",
        "\n",
        "print(exist(board, word))"
      ],
      "metadata": {
        "colab": {
          "base_uri": "https://localhost:8080/"
        },
        "id": "_Qj0pffNCchR",
        "outputId": "6f404fac-e6fe-4349-e32e-4593a942865a"
      },
      "execution_count": 10,
      "outputs": [
        {
          "output_type": "stream",
          "name": "stdout",
          "text": [
            "True\n"
          ]
        }
      ]
    },
    {
      "cell_type": "markdown",
      "source": [
        "## Solving Sudoku"
      ],
      "metadata": {
        "id": "0OzRDma-CuqS"
      }
    },
    {
      "cell_type": "code",
      "source": [
        "def solve_sudoku(board):\n",
        "    def is_valid(board, row, col, num):\n",
        "        for i in range(9):\n",
        "            if board[row][i] == num or board[i][col] == num or board[row//3*3 + i//3][col//3*3 + i%3] == num:\n",
        "                return False\n",
        "        return True\n",
        "\n",
        "    def dfs(board):\n",
        "        for i in range(9):\n",
        "            for j in range(9):\n",
        "                if board[i][j] == 0:\n",
        "                    for num in range(1, 10):\n",
        "                        if is_valid(board, i, j, num):\n",
        "                            board[i][j] = num\n",
        "                            if dfs(board):\n",
        "                                return True\n",
        "                            board[i][j] = 0\n",
        "                    return False\n",
        "        return True\n",
        "\n",
        "    dfs(board)\n",
        "    return board\n",
        "\n",
        "board = [\n",
        "    [5, 3, 0, 0, 7, 0, 0, 0, 0],\n",
        "    [6, 0, 0, 1, 9, 5, 0, 0, 0],\n",
        "    [0, 9, 8, 0, 0, 0, 0, 6, 0],\n",
        "    [8, 0, 0, 0, 6, 0, 0, 0, 3],\n",
        "    [4, 0, 0, 8, 0, 3, 0, 0, 1],\n",
        "    [7, 0, 0, 0, 2, 0, 0, 0, 6],\n",
        "    [0, 6, 0, 0, 0, 0, 2, 8, 0],\n",
        "    [0, 0, 0, 4, 1, 9, 0, 0, 5],\n",
        "    [0, 0, 0, 0, 8, 0, 0, 7, 9]\n",
        "]\n",
        "\n",
        "print(solve_sudoku(board))\n"
      ],
      "metadata": {
        "colab": {
          "base_uri": "https://localhost:8080/"
        },
        "id": "H--PMeCnC0Ko",
        "outputId": "8efdba08-bb9c-4b65-cea6-7f012e90f9db"
      },
      "execution_count": 11,
      "outputs": [
        {
          "output_type": "stream",
          "name": "stdout",
          "text": [
            "[[5, 3, 4, 6, 7, 8, 9, 1, 2], [6, 7, 2, 1, 9, 5, 3, 4, 8], [1, 9, 8, 3, 4, 2, 5, 6, 7], [8, 5, 9, 7, 6, 1, 4, 2, 3], [4, 2, 6, 8, 5, 3, 7, 9, 1], [7, 1, 3, 9, 2, 4, 8, 5, 6], [9, 6, 1, 5, 3, 7, 2, 8, 4], [2, 8, 7, 4, 1, 9, 6, 3, 5], [3, 4, 5, 2, 8, 6, 1, 7, 9]]\n"
          ]
        }
      ]
    },
    {
      "cell_type": "markdown",
      "source": [
        "## Finding All Paths Between Two Nodes"
      ],
      "metadata": {
        "id": "FqywaxzqDAaE"
      }
    },
    {
      "cell_type": "code",
      "source": [
        "def find_all_paths(graph, start, end):\n",
        "    def dfs(node, end, path, paths):\n",
        "        path.append(node)\n",
        "        if node == end:\n",
        "            paths.append(path[:])\n",
        "        else:\n",
        "            for neighbor in graph.get(node, []):\n",
        "                if neighbor not in path:\n",
        "                    dfs(neighbor, end, path, paths)\n",
        "        path.pop()\n",
        "\n",
        "    paths = []\n",
        "    dfs(start, end, [], paths)\n",
        "    return paths\n",
        "\n",
        "graph = {\n",
        "    'A': ['B', 'C'],\n",
        "    'B': ['C', 'D'],\n",
        "    'C': ['D'],\n",
        "    'D': ['C'],\n",
        "    'E': ['F'],\n",
        "    'F': ['C']\n",
        "}\n",
        "\n",
        "print(find_all_paths(graph, 'A', 'B'))\n"
      ],
      "metadata": {
        "colab": {
          "base_uri": "https://localhost:8080/"
        },
        "id": "VbQpo_ryDA2z",
        "outputId": "8befd372-dc05-49a8-d315-f79dbed327d7"
      },
      "execution_count": 14,
      "outputs": [
        {
          "output_type": "stream",
          "name": "stdout",
          "text": [
            "[['A', 'B']]\n"
          ]
        }
      ]
    }
  ]
}