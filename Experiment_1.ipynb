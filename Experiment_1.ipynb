{
  "nbformat": 4,
  "nbformat_minor": 0,
  "metadata": {
    "colab": {
      "provenance": [],
      "authorship_tag": "ABX9TyOX7Tou3JDQ2+MJZgWy4Wdi",
      "include_colab_link": true
    },
    "kernelspec": {
      "name": "python3",
      "display_name": "Python 3"
    },
    "language_info": {
      "name": "python"
    }
  },
  "cells": [
    {
      "cell_type": "markdown",
      "metadata": {
        "id": "view-in-github",
        "colab_type": "text"
      },
      "source": [
        "<a href=\"https://colab.research.google.com/github/G1290-hik/ML-5th-Semester/blob/main/Experiment_1.ipynb\" target=\"_parent\"><img src=\"https://colab.research.google.com/assets/colab-badge.svg\" alt=\"Open In Colab\"/></a>"
      ]
    },
    {
      "cell_type": "code",
      "execution_count": 19,
      "metadata": {
        "id": "vcDO4qkOkKWJ"
      },
      "outputs": [],
      "source": [
        "import pandas as pd\n",
        "import matplotlib.pyplot as plt"
      ]
    },
    {
      "cell_type": "code",
      "source": [
        "data={\n",
        "        'Friend Name':['Jai Kumar','Dhruv Sharma','Biswa','Vansh Nanda'],\n",
        "        'Age':['20','20','21','20'],\n",
        "        'City':['Indore','Chandigarh','Orissa','Roorke'],\n",
        "        'Gender':['Male','Male','Male','Male']\n",
        "}\n",
        "\n",
        "df=pd.DataFrame(data)\n",
        "print(df)\n",
        "\n",
        ""
      ],
      "metadata": {
        "colab": {
          "base_uri": "https://localhost:8080/"
        },
        "id": "HXUEcflKp6IZ",
        "outputId": "0f9c1420-04cd-4f73-8491-1c20a577443b"
      },
      "execution_count": 10,
      "outputs": [
        {
          "output_type": "stream",
          "name": "stdout",
          "text": [
            "           Name Age        City Gender\n",
            "0     Jai Kumar  20      Indore   Male\n",
            "1  Dhruv Sharma  20  Chandigarh   Male\n",
            "2         Biswa  21      Orissa   Male\n",
            "3   Vansh Nanda  20      Roorke   Male\n"
          ]
        }
      ]
    },
    {
      "cell_type": "code",
      "source": [
        "data={\n",
        "        'Fruit Name':['Apple','Pear','Grapes','Orange','Banana'],\n",
        "        'Color':['Red or Green','Green','Green or Black','Orange','Yellow'],\n",
        "        'Largest Producing State':['Himachal Pradesh','J&K','Maharashtra','Maharashtra','Kerala'],\n",
        "}\n",
        "\n",
        "df=pd.DataFrame(data)\n",
        "print(df)"
      ],
      "metadata": {
        "colab": {
          "base_uri": "https://localhost:8080/"
        },
        "id": "arp1xfjEr0r8",
        "outputId": "494c39d5-2e5d-4511-bba6-41f3c1436cfa"
      },
      "execution_count": 11,
      "outputs": [
        {
          "output_type": "stream",
          "name": "stdout",
          "text": [
            "  Fruit Name           Color Largest Producing State\n",
            "0      Apple    Red or Green        Himachal Pradesh\n",
            "1       Pear           Green                     J&K\n",
            "2     Grapes  Green or Black             Maharashtra\n",
            "3     Orange          Orange             Maharashtra\n",
            "4     Banana          Yellow                  Kerala\n"
          ]
        }
      ]
    },
    {
      "cell_type": "code",
      "source": [
        "data={\n",
        "        'Car Brand':['Audi','Honda','Ford','Mercedes','Renault'],\n",
        "        'Origin':['Germany','Japan','America','Germany','France'],\n",
        "        'Fuel Type Available':['Hybrid','Petrol','Disel','EV','HyperCar'],\n",
        "        'Model Type':['Sedan','Hatchback','SUV','Open Wheel Race Car','Closed Wheel Race Car'],\n",
        "        'F1 Teams':['Audi-Sauber','Aston Martin','Red Bull','Mercedes AMG Petronas/McLaren','Alpine']\n",
        "}\n",
        "\n",
        "df=pd.DataFrame(data)\n",
        "print(df)"
      ],
      "metadata": {
        "colab": {
          "base_uri": "https://localhost:8080/"
        },
        "id": "JXMpNE9ftJTc",
        "outputId": "fac329e1-c19c-4a43-93a7-2222d8da73d0"
      },
      "execution_count": 16,
      "outputs": [
        {
          "output_type": "stream",
          "name": "stdout",
          "text": [
            "  Car Brand   Origin Fuel Type Available             Model Type  \\\n",
            "0      Audi  Germany              Hybrid                  Sedan   \n",
            "1     Honda    Japan              Petrol              Hatchback   \n",
            "2      Ford  America               Disel                    SUV   \n",
            "3  Mercedes  Germany                  EV    Open Wheel Race Car   \n",
            "4   Renault   France            HyperCar  Closed Wheel Race Car   \n",
            "\n",
            "                        F1 Teams  \n",
            "0                    Audi-Sauber  \n",
            "1                   Aston Martin  \n",
            "2                       Red Bull  \n",
            "3  Mercedes AMG Petronas/McLaren  \n",
            "4                         Alpine  \n"
          ]
        }
      ]
    },
    {
      "cell_type": "code",
      "source": [
        "x=[3,4,10,12]\n",
        "y=[9,16,100,144]\n",
        "plt.plot(x,y)\n",
        "plt.xlabel('X-axis')\n",
        "plt.ylabel('Y-axis')\n",
        "plt.title('Line Plot')\n",
        "plt.show()"
      ],
      "metadata": {
        "colab": {
          "base_uri": "https://localhost:8080/",
          "height": 472
        },
        "id": "VtP9rLt3ukgb",
        "outputId": "adc6573f-9eb8-4f56-e0ae-c02d118c4ecb"
      },
      "execution_count": 22,
      "outputs": [
        {
          "output_type": "display_data",
          "data": {
            "text/plain": [
              "<Figure size 640x480 with 1 Axes>"
            ],
            "image/png": "[encoded data removed]"
          },
          "metadata": {}
        }
      ]
    }
  ]
}