{
  "nbformat": 4,
  "nbformat_minor": 0,
  "metadata": {
    "colab": {
      "provenance": [],
      "authorship_tag": "ABX9TyOt02ty8CgeKe3q80PFuCcb",
      "include_colab_link": true
    },
    "kernelspec": {
      "name": "python3",
      "display_name": "Python 3"
    },
    "language_info": {
      "name": "python"
    }
  },
  "cells": [
    {
      "cell_type": "markdown",
      "metadata": {
        "id": "view-in-github",
        "colab_type": "text"
      },
      "source": [
        "<a href=\"https://colab.research.google.com/github/G1290-hik/ML-5th-Semester/blob/main/Experiment_2.ipynb\" target=\"_parent\"><img src=\"https://colab.research.google.com/assets/colab-badge.svg\" alt=\"Open In Colab\"/></a>"
      ]
    },
    {
      "cell_type": "markdown",
      "source": [
        "### **Using the math library**"
      ],
      "metadata": {
        "id": "z47XB0x3Bm_K"
      }
    },
    {
      "cell_type": "code",
      "source": [
        "import math"
      ],
      "metadata": {
        "id": "HCKYtsanCn8S"
      },
      "execution_count": null,
      "outputs": []
    },
    {
      "cell_type": "code",
      "source": [
        "x=16\n",
        "sqrt_val = math.sqrt(x)\n",
        "print(f\"Square root of {x} using math module: {sqrt_val}\")"
      ],
      "metadata": {
        "colab": {
          "base_uri": "https://localhost:8080/"
        },
        "id": "5LMYm0Qi5Y0Q",
        "outputId": "53f8d8da-51ea-48f2-fb10-f3821332a7fb"
      },
      "execution_count": 21,
      "outputs": [
        {
          "output_type": "stream",
          "name": "stdout",
          "text": [
            "Square root of 16 using math module: 4.0\n"
          ]
        }
      ]
    },
    {
      "cell_type": "code",
      "source": [
        "x=25\n",
        "sqrt_val = math.sqrt(x)\n",
        "print(f\"Square root of {x} using math module: {sqrt_val}\")"
      ],
      "metadata": {
        "colab": {
          "base_uri": "https://localhost:8080/"
        },
        "outputId": "53f8d8da-51ea-48f2-fb10-f3821332a7fb",
        "id": "bd9rY8n4B8DV"
      },
      "execution_count": null,
      "outputs": [
        {
          "output_type": "stream",
          "name": "stdout",
          "text": [
            "Square root of 16 using math module: 4.0\n"
          ]
        }
      ]
    },
    {
      "cell_type": "code",
      "source": [
        "x=36\n",
        "sqrt_val = math.sqrt(x)\n",
        "print(f\"Square root of {x} using math module: {sqrt_val}\")"
      ],
      "metadata": {
        "colab": {
          "base_uri": "https://localhost:8080/"
        },
        "outputId": "53f8d8da-51ea-48f2-fb10-f3821332a7fb",
        "id": "oJ4oD0wJB8bT"
      },
      "execution_count": null,
      "outputs": [
        {
          "output_type": "stream",
          "name": "stdout",
          "text": [
            "Square root of 16 using math module: 4.0\n"
          ]
        }
      ]
    },
    {
      "cell_type": "code",
      "source": [
        "x=20\n",
        "sqrt_val = math.sqrt(x)\n",
        "print(f\"Square root of {x} using math module: {sqrt_val}\")"
      ],
      "metadata": {
        "colab": {
          "base_uri": "https://localhost:8080/"
        },
        "outputId": "53f8d8da-51ea-48f2-fb10-f3821332a7fb",
        "id": "iubJUvwZB8yv"
      },
      "execution_count": null,
      "outputs": [
        {
          "output_type": "stream",
          "name": "stdout",
          "text": [
            "Square root of 16 using math module: 4.0\n"
          ]
        }
      ]
    },
    {
      "cell_type": "code",
      "source": [
        "x=30.5\n",
        "sqrt_val = math.sqrt(x)\n",
        "print(f\"Square root of {x} using math module: {sqrt_val}\")"
      ],
      "metadata": {
        "colab": {
          "base_uri": "https://localhost:8080/"
        },
        "outputId": "0f79b285-1d25-4d7d-b8c9-9620cb9272be",
        "id": "DMsHnptuCCUc"
      },
      "execution_count": 64,
      "outputs": [
        {
          "output_type": "stream",
          "name": "stdout",
          "text": [
            "Square root of 30.5 using math module: 5.522680508593631\n"
          ]
        }
      ]
    },
    {
      "cell_type": "code",
      "source": [
        "a = 480\n",
        "b = 135\n",
        "gcd_value = math.gcd(a, b)\n",
        "print(f\"The GCD of {a} and {b} is {gcd_value}\")\n"
      ],
      "metadata": {
        "colab": {
          "base_uri": "https://localhost:8080/"
        },
        "id": "ZoY2m-YJCyni",
        "outputId": "6dc93aac-80a5-4508-ab22-453af8c8d300"
      },
      "execution_count": 80,
      "outputs": [
        {
          "output_type": "stream",
          "name": "stdout",
          "text": [
            "The GCD of 480 and 135 is 15\n"
          ]
        }
      ]
    },
    {
      "cell_type": "code",
      "source": [
        "angle = math.radians(30)  # Converting degrees to radians\n",
        "sine_value = math.sin(angle)\n",
        "cos_value=math.cos(angle)\n",
        "tan_value=math.tan(angle)\n",
        "print(f\"The cosine of 30 degrees is %.2f\" %cos_value)\n",
        "print(f\"The sine of 30 degrees is %.2f\" %sine_value)\n",
        "print(f\"The tangent of 30 degrees is %.2f\" %tan_value)"
      ],
      "metadata": {
        "colab": {
          "base_uri": "https://localhost:8080/"
        },
        "id": "qzASGi6yCzLF",
        "outputId": "676c9bf5-7b04-4da1-9f33-02b98e53ccca"
      },
      "execution_count": 76,
      "outputs": [
        {
          "output_type": "stream",
          "name": "stdout",
          "text": [
            "The cosine of 30 degrees is 0.87\n",
            "The sine of 30 degrees is 0.50\n",
            "The tangent of 30 degrees is 0.58\n"
          ]
        }
      ]
    },
    {
      "cell_type": "code",
      "source": [
        "number = 5\n",
        "factorial_value = math.factorial(number)\n",
        "print(f\"The factorial of {number} is {factorial_value}\")"
      ],
      "metadata": {
        "colab": {
          "base_uri": "https://localhost:8080/"
        },
        "id": "WhrbSy_LD9Cf",
        "outputId": "99555997-231f-41cb-982d-8dc40e8d0e4f"
      },
      "execution_count": 81,
      "outputs": [
        {
          "output_type": "stream",
          "name": "stdout",
          "text": [
            "The factorial of 5 is 120\n"
          ]
        }
      ]
    },
    {
      "cell_type": "code",
      "source": [
        "number = 1000\n",
        "log_value = math.log10(number)\n",
        "print(f\"The base-10 logarithm of {number} is {log_value}\")"
      ],
      "metadata": {
        "colab": {
          "base_uri": "https://localhost:8080/"
        },
        "id": "x4sv3vJJEV-P",
        "outputId": "8f6841e3-db5b-44b0-9532-fa89e03a5e6f"
      },
      "execution_count": 82,
      "outputs": [
        {
          "output_type": "stream",
          "name": "stdout",
          "text": [
            "The base-10 logarithm of 1000 is 3.0\n"
          ]
        }
      ]
    },
    {
      "cell_type": "markdown",
      "source": [
        "### **Using the Numpy Library**"
      ],
      "metadata": {
        "id": "uKS9VIezBu8F"
      }
    },
    {
      "cell_type": "code",
      "source": [
        "import numpy as np"
      ],
      "metadata": {
        "id": "rRGTMKmrCrc2"
      },
      "execution_count": 66,
      "outputs": []
    },
    {
      "cell_type": "code",
      "source": [
        "array=np.array([1,2,3,4,5])\n",
        "print(array)"
      ],
      "metadata": {
        "colab": {
          "base_uri": "https://localhost:8080/"
        },
        "id": "lzz6Bhnh7VqJ",
        "outputId": "2120c11d-55b0-47ab-c61c-e4a90c069a60"
      },
      "execution_count": 65,
      "outputs": [
        {
          "output_type": "stream",
          "name": "stdout",
          "text": [
            "[1 2 3 4 5]\n"
          ]
        }
      ]
    },
    {
      "cell_type": "code",
      "source": [
        "def common_characters_np(np_array):\n",
        "  if np_array.size == 0:\n",
        "    return None\n",
        "  elif np_array.size == 1:\n",
        "    return None\n",
        "  else:\n",
        "    common_chars = set(np_array[0])\n",
        "    for s in np_array[1:]:\n",
        "      common_chars &= set(s)\n",
        "      if len(common_chars) == 0:\n",
        "        return None\n",
        "    return common_chars\n",
        "\n",
        "my_array = np.array([\"Hello\",\"Hello\",\"Hello\"])\n",
        "common_chars = common_characters_np(my_array)\n",
        "print(f\"Common characters: {common_chars}\")"
      ],
      "metadata": {
        "colab": {
          "base_uri": "https://localhost:8080/"
        },
        "id": "mB5B8w4d6RNX",
        "outputId": "6a7ce70e-8710-40b6-e4e2-bcf6db1740dc"
      },
      "execution_count": 42,
      "outputs": [
        {
          "output_type": "stream",
          "name": "stdout",
          "text": [
            "Common characters: {'o', 'l', 'e', 'H'}\n"
          ]
        }
      ]
    },
    {
      "cell_type": "code",
      "source": [
        "array = np.array([5, 4, 3, 4, 5])\n",
        "mean_val = np.mean(array)\n",
        "print(f\"Mean of the array using numpy: {mean_val}\")\n"
      ],
      "metadata": {
        "colab": {
          "base_uri": "https://localhost:8080/"
        },
        "id": "ERx8OFcSATIF",
        "outputId": "3e8eba40-a551-4244-b220-b7548a2751e0"
      },
      "execution_count": 61,
      "outputs": [
        {
          "output_type": "stream",
          "name": "stdout",
          "text": [
            "Mean of the array using numpy: 4.2\n",
            "ModeResult(mode=1, count=6)\n",
            "Mode of the array using numpy: ModeResult(mode=4, count=2)\n"
          ]
        }
      ]
    },
    {
      "cell_type": "code",
      "source": [
        "arr1 = np.array([1, 2, 3])\n",
        "arr2 = np.array([4, 5, 6])\n",
        "sum_arr = np.add(arr1, arr2)\n",
        "print(\"Element-wise addition:\", sum_arr)"
      ],
      "metadata": {
        "colab": {
          "base_uri": "https://localhost:8080/"
        },
        "id": "JmDDOFTDEas-",
        "outputId": "c550ce51-2dd2-446f-e914-3fe5b3bec05d"
      },
      "execution_count": 83,
      "outputs": [
        {
          "output_type": "stream",
          "name": "stdout",
          "text": [
            "Element-wise addition: [5 7 9]\n"
          ]
        }
      ]
    },
    {
      "cell_type": "code",
      "source": [
        "matrix1 = np.array([[1, 2], [3, 4]])\n",
        "matrix2 = np.array([[5, 6], [7, 8]])\n",
        "product = np.dot(matrix1, matrix2)\n",
        "print(\"Matrix multiplication result:\\n\", product)"
      ],
      "metadata": {
        "colab": {
          "base_uri": "https://localhost:8080/"
        },
        "id": "ZpawrSMDEkBV",
        "outputId": "a1d781e5-bb9d-4fa1-d4af-5a655db3cfee"
      },
      "execution_count": 84,
      "outputs": [
        {
          "output_type": "stream",
          "name": "stdout",
          "text": [
            "Matrix multiplication result:\n",
            " [[19 22]\n",
            " [43 50]]\n"
          ]
        }
      ]
    },
    {
      "cell_type": "code",
      "source": [
        "matrix = np.array([[1, 2], [3, 4]])\n",
        "inverse_matrix = np.linalg.inv(matrix)\n",
        "print(\"Inverse of the matrix:\\n\", inverse_matrix)"
      ],
      "metadata": {
        "colab": {
          "base_uri": "https://localhost:8080/"
        },
        "id": "MI2838wtEleS",
        "outputId": "b8059d7b-a206-487d-981e-b4ab7c98263a"
      },
      "execution_count": 85,
      "outputs": [
        {
          "output_type": "stream",
          "name": "stdout",
          "text": [
            "Inverse of the matrix:\n",
            " [[-2.   1. ]\n",
            " [ 1.5 -0.5]]\n"
          ]
        }
      ]
    },
    {
      "cell_type": "markdown",
      "source": [
        "### **Scipy Library**"
      ],
      "metadata": {
        "id": "sSF3a-vYCHBX"
      }
    },
    {
      "cell_type": "code",
      "source": [
        "import scipy"
      ],
      "metadata": {
        "id": "oAo7_vDVB56h"
      },
      "execution_count": null,
      "outputs": []
    },
    {
      "cell_type": "code",
      "source": [
        "print(dir(scipy.constants.constants))"
      ],
      "metadata": {
        "colab": {
          "base_uri": "https://localhost:8080/"
        },
        "id": "HeEbhvwy--dZ",
        "outputId": "8fd0a688-c5f8-49a8-fd52-86877d8d2999"
      },
      "execution_count": 52,
      "outputs": [
        {
          "output_type": "stream",
          "name": "stdout",
          "text": [
            "['Avogadro', 'Boltzmann', 'Btu', 'Btu_IT', 'Btu_th', 'G', 'Julian_year', 'N_A', 'Planck', 'R', 'Rydberg', 'Stefan_Boltzmann', 'Wien', 'acre', 'alpha', 'angstrom', 'arcmin', 'arcminute', 'arcsec', 'arcsecond', 'astronomical_unit', 'atm', 'atmosphere', 'atomic_mass', 'atto', 'au', 'bar', 'barrel', 'bbl', 'blob', 'c', 'calorie', 'calorie_IT', 'calorie_th', 'carat', 'centi', 'convert_temperature', 'day', 'deci', 'degree', 'degree_Fahrenheit', 'deka', 'dyn', 'dyne', 'e', 'eV', 'electron_mass', 'electron_volt', 'elementary_charge', 'epsilon_0', 'erg', 'exa', 'exbi', 'femto', 'fermi', 'fine_structure', 'fluid_ounce', 'fluid_ounce_US', 'fluid_ounce_imp', 'foot', 'g', 'gallon', 'gallon_US', 'gallon_imp', 'gas_constant', 'gibi', 'giga', 'golden', 'golden_ratio', 'grain', 'gram', 'gravitational_constant', 'h', 'hbar', 'hectare', 'hecto', 'horsepower', 'hour', 'hp', 'inch', 'k', 'kgf', 'kibi', 'kilo', 'kilogram_force', 'kmh', 'knot', 'lambda2nu', 'lb', 'lbf', 'light_year', 'liter', 'litre', 'long_ton', 'm_e', 'm_n', 'm_p', 'm_u', 'mach', 'mebi', 'mega', 'metric_ton', 'micro', 'micron', 'mil', 'mile', 'milli', 'minute', 'mmHg', 'mph', 'mu_0', 'nano', 'nautical_mile', 'neutron_mass', 'nu2lambda', 'ounce', 'oz', 'parsec', 'pebi', 'peta', 'pi', 'pico', 'point', 'pound', 'pound_force', 'proton_mass', 'psi', 'pt', 'short_ton', 'sigma', 'slinch', 'slug', 'speed_of_light', 'speed_of_sound', 'stone', 'survey_foot', 'survey_mile', 'tebi', 'tera', 'ton_TNT', 'torr', 'troy_ounce', 'troy_pound', 'u', 'week', 'yard', 'year', 'yobi', 'yocto', 'yotta', 'zebi', 'zepto', 'zero_Celsius', 'zetta']\n"
          ]
        }
      ]
    },
    {
      "cell_type": "code",
      "source": [
        "x=50.5\n",
        "sqrt_val = math.sqrt(x)\n",
        "print(f\"Square root of {x} using math module: {sqrt_val}\")"
      ],
      "metadata": {
        "colab": {
          "base_uri": "https://localhost:8080/"
        },
        "id": "J9Y9mjzR5ity",
        "outputId": "8ec8ad8a-9d0b-4a76-d074-8fe60fcfcef3"
      },
      "execution_count": 25,
      "outputs": [
        {
          "output_type": "stream",
          "name": "stdout",
          "text": [
            "Square root of 50.5 using math module: 7.106335201775948\n"
          ]
        }
      ]
    },
    {
      "cell_type": "code",
      "source": [
        "print(scipy.constants.constants.golden_ratio)"
      ],
      "metadata": {
        "colab": {
          "base_uri": "https://localhost:8080/"
        },
        "id": "I0rGGkYb_gvZ",
        "outputId": "06437228-ca6a-465b-bffe-b1281070d27f"
      },
      "execution_count": 53,
      "outputs": [
        {
          "output_type": "stream",
          "name": "stdout",
          "text": [
            "1.618033988749895\n"
          ]
        },
        {
          "output_type": "stream",
          "name": "stderr",
          "text": [
            "<ipython-input-53-015ae32a60a8>:1: DeprecationWarning: Please use `golden_ratio` from the `scipy.constants` namespace, the `scipy.constants.constants` namespace is deprecated.\n",
            "  print(scipy.constants.constants.golden_ratio)\n"
          ]
        }
      ]
    },
    {
      "cell_type": "code",
      "source": [
        "# Sample data\n",
        "time_before = np.array([30, 45, 50, 60, 40, 55, 50, 48, 52, 46])\n",
        "time_after = np.array([35, 50, 60, 65, 45, 60, 55, 52, 58, 50])\n",
        "\n",
        "# Perform paired t-test\n",
        "t_statistic, p_value = scipy.stats.ttest_rel(time_before, time_after)\n",
        "\n",
        "print(f\"T-statistic: {t_statistic}\")\n",
        "print(f\"P-value: {p_value}\")\n",
        "\n",
        "# Interpret the results\n",
        "alpha = 0.05  # Significance level\n",
        "\n",
        "if p_value < alpha:\n",
        "    print(\"Reject the null hypothesis: There is a significant difference in the mean time spent on the site.\")\n",
        "else:\n",
        "    print(\"Fail to reject the null hypothesis: There is no significant difference in the mean time spent on the site.\")"
      ],
      "metadata": {
        "colab": {
          "base_uri": "https://localhost:8080/"
        },
        "id": "PNfus_kq-spt",
        "outputId": "68072098-c39a-4d7e-cd9c-f2a31057ba03"
      },
      "execution_count": 47,
      "outputs": [
        {
          "output_type": "stream",
          "name": "stdout",
          "text": [
            "T-statistic: -9.970410769325952\n",
            "P-value: 3.667573626415979e-06\n",
            "Reject the null hypothesis: There is a significant difference in the mean time spent on the site.\n"
          ]
        }
      ]
    },
    {
      "cell_type": "code",
      "source": [
        "data = np.random.normal(0, 1, 1000)\n",
        "# Perform a normal test\n",
        "k2, p = scipy.stats.normaltest(data)\n",
        "print(f\"Normal test statistics: {k2}, p-value: {p}\")\n"
      ],
      "metadata": {
        "colab": {
          "base_uri": "https://localhost:8080/"
        },
        "id": "ZgS6YwtC_9by",
        "outputId": "92ce8897-3e9d-4276-9850-9d2a00d16de3"
      },
      "execution_count": 54,
      "outputs": [
        {
          "output_type": "stream",
          "name": "stdout",
          "text": [
            "Normal test statistics: 0.3047271083816414, p-value: 0.8586760487118645\n"
          ]
        }
      ]
    },
    {
      "cell_type": "code",
      "source": [
        "def equation(x):\n",
        "    return x**2 - 5\n",
        "\n",
        "sol = scipy.optimize.root(equation, 0)\n",
        "print(\"Root of the equation x^2 - 5 = 0:\", sol.x)\n"
      ],
      "metadata": {
        "colab": {
          "base_uri": "https://localhost:8080/"
        },
        "id": "ivuhCuXWCvPk",
        "outputId": "ee1a61b7-8fda-4731-93ff-62af9c09183b"
      },
      "execution_count": 86,
      "outputs": [
        {
          "output_type": "stream",
          "name": "stdout",
          "text": [
            "Root of the equation x^2 - 5 = 0: [2.23606798]\n"
          ]
        }
      ]
    },
    {
      "cell_type": "code",
      "source": [
        "def integrand(x):\n",
        "    return x**2\n",
        "\n",
        "integral, error = scipy.integrate.quad(integrand, 0, 1)\n",
        "print(\"Integral of x^2 from 0 to 1: %.2f\" % integral)"
      ],
      "metadata": {
        "colab": {
          "base_uri": "https://localhost:8080/"
        },
        "id": "pNRvAL7SExhn",
        "outputId": "6fa5af54-0f41-4fb8-fae9-1e44836bb9ad"
      },
      "execution_count": 100,
      "outputs": [
        {
          "output_type": "stream",
          "name": "stdout",
          "text": [
            "Integral of x^2 from 0 to 1: 0.33\n"
          ]
        }
      ]
    },
    {
      "cell_type": "code",
      "source": [
        "A = np.array([[3, 1], [1, 2]])\n",
        "b = np.array([9, 8])\n",
        "x = scipy.linalg.solve(A, b)\n",
        "print(\"Solution of the linear system:\\n\", x)\n"
      ],
      "metadata": {
        "colab": {
          "base_uri": "https://localhost:8080/"
        },
        "id": "iUGm9pCpE-Bh",
        "outputId": "8327c1ad-2ee7-47c6-e4b3-cca889fa661b"
      },
      "execution_count": 88,
      "outputs": [
        {
          "output_type": "stream",
          "name": "stdout",
          "text": [
            "Solution of the linear system:\n",
            " [2. 3.]\n"
          ]
        }
      ]
    },
    {
      "cell_type": "code",
      "source": [
        "from scipy.fft import fft\n",
        "\n",
        "x = np.array([0, 1, 0, -1])\n",
        "y = fft(x)\n",
        "print(\"FFT of the array:\", y)\n",
        "print(\"Inverse FFT of the array:\", np.fft.ifft(y))"
      ],
      "metadata": {
        "colab": {
          "base_uri": "https://localhost:8080/"
        },
        "id": "RAWI_tUIFCML",
        "outputId": "f6dc3b6f-8915-4c6e-d767-23d54e3ac90f"
      },
      "execution_count": 92,
      "outputs": [
        {
          "output_type": "stream",
          "name": "stdout",
          "text": [
            "FFT of the array: [0.-0.j 0.-2.j 0.-0.j 0.+2.j]\n",
            "Inverse FFT of the array: [ 0.+0.j  1.+0.j  0.-0.j -1.+0.j]\n"
          ]
        }
      ]
    },
    {
      "cell_type": "code",
      "source": [
        "def objective_function(x):\n",
        "    return x**2 + 2*x + 1\n",
        "\n",
        "result = scipy.minimize(objective_function, 0)\n",
        "print(\"Minimum of the function x^2 + 2x + 1:\", result.x)"
      ],
      "metadata": {
        "id": "Kr7aRbuXFSse"
      },
      "execution_count": null,
      "outputs": []
    },
    {
      "cell_type": "code",
      "source": [
        "obj = [-2, -3]\n",
        "lhs_ineq = [[0,  2],   # 0x1 + 2x2\n",
        "            [1,  2],   # x1 + 2x2\n",
        "            [1,  1] ]  # 1x1 + 1x2\n",
        "\n",
        "rhs_ineq = [50,  # ......<= 50\n",
        "            25,  # ......<= 25\n",
        "            15]  # ..... <= 15\n",
        "\n",
        "opt = scipy.optimize.linprog(c=obj, A_ub=lhs_ineq, b_ub=rhs_ineq,method=\"highs\")\n",
        "print(opt)"
      ],
      "metadata": {
        "colab": {
          "base_uri": "https://localhost:8080/"
        },
        "id": "weXvFfYJFb6C",
        "outputId": "bec065a3-bb2c-4fa2-d274-cb4f2ba05326"
      },
      "execution_count": 101,
      "outputs": [
        {
          "output_type": "stream",
          "name": "stdout",
          "text": [
            "        message: Optimization terminated successfully. (HiGHS Status 7: Optimal)\n",
            "        success: True\n",
            "         status: 0\n",
            "            fun: -40.0\n",
            "              x: [ 5.000e+00  1.000e+01]\n",
            "            nit: 2\n",
            "          lower:  residual: [ 5.000e+00  1.000e+01]\n",
            "                 marginals: [ 0.000e+00  0.000e+00]\n",
            "          upper:  residual: [       inf        inf]\n",
            "                 marginals: [ 0.000e+00  0.000e+00]\n",
            "          eqlin:  residual: []\n",
            "                 marginals: []\n",
            "        ineqlin:  residual: [ 3.000e+01  0.000e+00  0.000e+00]\n",
            "                 marginals: [-0.000e+00 -1.000e+00 -1.000e+00]\n",
            " mip_node_count: 0\n",
            " mip_dual_bound: 0.0\n",
            "        mip_gap: 0.0\n"
          ]
        }
      ]
    }
  ]
}